{
 "cells": [
  {
   "cell_type": "code",
   "execution_count": null,
   "id": "963f9662",
   "metadata": {},
   "outputs": [],
   "source": [
    "import requests\n",
    "import pandas as pd\n",
    "import pytz\n",
    "\n",
    "# Set API key\n",
    "auth_token = \"get_your_api_key\" ##get your api key\n",
    "\n",
    "# Define query_one with pagination\n",
    "query_one = \"\"\"\n",
    "query GetLatestModelMetadata($environmentId: BigInt!, $first: Int!, $after: String) {\n",
    "  environment(id: $environmentId) {\n",
    "    applied {\n",
    "      models(first: $first, after: $after) {\n",
    "        edges {\n",
    "          node {\n",
    "            name\n",
    "            uniqueId\n",
    "            schema\n",
    "            database\n",
    "            materializedType\n",
    "            executionInfo {\n",
    "              lastSuccessRunId\n",
    "              executionTime\n",
    "              executeStartedAt\n",
    "            }\n",
    "          }\n",
    "        }\n",
    "        pageInfo {\n",
    "          endCursor\n",
    "          hasNextPage\n",
    "        }\n",
    "      }\n",
    "    }\n",
    "  }\n",
    "}\n",
    "\"\"\"\n",
    "\n",
    "# Query the API\n",
    "def query_discovery_api(auth_token, gql_query, variables):\n",
    "    response = requests.post(\n",
    "        'https://metadata.cloud.getdbt.com/graphql',\n",
    "        headers={\n",
    "            \"Authorization\": f\"Bearer {auth_token}\",\n",
    "            \"Content-Type\": \"application/json\"\n",
    "        },\n",
    "        json={\"query\": gql_query, \"variables\": variables}\n",
    "    )\n",
    "    try:\n",
    "        response_data = response.json()\n",
    "    except ValueError:\n",
    "        print(f\"Invalid JSON response: {response.text}\")\n",
    "        return None\n",
    "\n",
    "    # Handle GraphQL errors\n",
    "    if 'errors' in response_data:\n",
    "        print(\"GraphQL Errors:\", response_data[\"errors\"])\n",
    "        return None\n",
    "\n",
    "    return response_data.get('data', None)\n",
    "\n",
    "# Variables for query_one\n",
    "variables_query_one = {\n",
    "    \"environmentId\": 'your_environment_id',  # Replace with your environment ID\n",
    "    \"first\": 500,\n",
    "    \"after\": None  # Start with no cursor for the first page\n",
    "}\n",
    "\n",
    "# Fetch all models with pagination\n",
    "all_models = []\n",
    "while True:\n",
    "    data = query_discovery_api(auth_token, query_one, variables_query_one)\n",
    "    \n",
    "    if not data or not data.get(\"environment\"):\n",
    "        print(\"No metadata found or error occurred.\")\n",
    "        break\n",
    "\n",
    "    models_data = data[\"environment\"][\"applied\"][\"models\"]\n",
    "    all_models.extend([edge['node'] for edge in models_data['edges']])\n",
    "\n",
    "    # Check if there's another page\n",
    "    page_info = models_data[\"pageInfo\"]\n",
    "    if page_info[\"hasNextPage\"]:\n",
    "        variables_query_one[\"after\"] = page_info[\"endCursor\"]\n",
    "    else:\n",
    "        break\n",
    "\n",
    "# Convert all models to a dataframe\n",
    "models_df = pd.DataFrame(all_models)\n",
    "\n",
    "# Unnest the executionInfo column\n",
    "if 'executionInfo' in models_df:\n",
    "    models_df = pd.concat([models_df.drop(['executionInfo'], axis=1), models_df['executionInfo'].apply(pd.Series)], axis=1)\n",
    "\n",
    "# Sort the models by execution time\n",
    "models_df_sorted = models_df.sort_values('executionTime', ascending=False)\n",
    "\n",
    "\n"
   ]
  },
  {
   "cell_type": "code",
   "execution_count": null,
   "id": "7184b5d4",
   "metadata": {},
   "outputs": [],
   "source": [
    "models_df"
   ]
  },
  {
   "cell_type": "code",
   "execution_count": null,
   "id": "5b5d028c",
   "metadata": {},
   "outputs": [],
   "source": [
    "models_df['executeStartedAt'] = pd.to_datetime(models_df['executeStartedAt'])\n"
   ]
  },
  {
   "cell_type": "code",
   "execution_count": null,
   "id": "b6f57848",
   "metadata": {},
   "outputs": [],
   "source": [
    "# Convert from UTC to IST\n",
    "from pytz import timezone\n",
    "ist = timezone('Asia/Kolkata')\n",
    "\n",
    "dt_columns = ['executeStartedAt']\n",
    "\n",
    "for col in dt_columns:\n",
    "    models_df[col] = models_df[col].dt.tz_convert(ist)\n"
   ]
  },
  {
   "cell_type": "code",
   "execution_count": null,
   "id": "3c418ff5",
   "metadata": {},
   "outputs": [],
   "source": [
    "models_df"
   ]
  },
  {
   "cell_type": "code",
   "execution_count": null,
   "id": "8317e3a9",
   "metadata": {},
   "outputs": [],
   "source": [
    "from sqlalchemy import create_engine\n",
    "\n",
    "# Database connection details\n",
    "username = \"######\"\n",
    "password = \"######\"\n",
    "host = \"######\"  # Or your database host\n",
    "port = \"######\"  # Default PostgreSQL port\n",
    "database = \"######\"\n",
    "\n",
    "# Create an SQLAlchemy engine\n",
    "engine = create_engine(f\"postgresql+psycopg2://{username}:{password}@{host}:{port}/{database}\")\n"
   ]
  },
  {
   "cell_type": "code",
   "execution_count": null,
   "id": "b8613402",
   "metadata": {},
   "outputs": [],
   "source": [
    "models_df.to_sql('dbt_models', con=engine, schema='analytics', if_exists='replace', index=False)"
   ]
  },
  {
   "cell_type": "code",
   "execution_count": null,
   "id": "777dc71e",
   "metadata": {},
   "outputs": [],
   "source": []
  }
 ],
 "metadata": {
  "kernelspec": {
   "display_name": "Python 3 (ipykernel)",
   "language": "python",
   "name": "python3"
  },
  "language_info": {
   "codemirror_mode": {
    "name": "ipython",
    "version": 3
   },
   "file_extension": ".py",
   "mimetype": "text/x-python",
   "name": "python",
   "nbconvert_exporter": "python",
   "pygments_lexer": "ipython3",
   "version": "3.11.4"
  }
 },
 "nbformat": 4,
 "nbformat_minor": 5
}
